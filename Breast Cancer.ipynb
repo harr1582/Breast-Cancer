{
 "cells": [
  {
   "cell_type": "code",
   "execution_count": 1,
   "metadata": {},
   "outputs": [],
   "source": [
    "import numpy as np\n",
    "import pandas as pd\n",
    "import matplotlib.pyplot as plt\n",
    "import seaborn as sns\n",
    "\n",
    "%matplotlib inline\n",
    "import math"
   ]
  },
  {
   "cell_type": "code",
   "execution_count": 2,
   "metadata": {},
   "outputs": [
    {
     "name": "stdout",
     "output_type": "stream",
     "text": [
      "            Column1     Column2     Column3     Column4     Column5  \\\n",
      "count  6.990000e+02  699.000000  699.000000  699.000000  699.000000   \n",
      "mean   1.071704e+06    4.417740    3.134478    3.207439    2.806867   \n",
      "std    6.170957e+05    2.815741    3.051459    2.971913    2.855379   \n",
      "min    6.163400e+04    1.000000    1.000000    1.000000    1.000000   \n",
      "25%    8.706885e+05    2.000000    1.000000    1.000000    1.000000   \n",
      "50%    1.171710e+06    4.000000    1.000000    1.000000    1.000000   \n",
      "75%    1.238298e+06    6.000000    5.000000    5.000000    4.000000   \n",
      "max    1.345435e+07   10.000000   10.000000   10.000000   10.000000   \n",
      "\n",
      "          Column6     Column8     Column9    Column10    Column11  \n",
      "count  699.000000  699.000000  699.000000  699.000000  699.000000  \n",
      "mean     3.216023    3.437768    2.866953    1.589413    2.689557  \n",
      "std      2.214300    2.438364    3.053634    1.715078    0.951273  \n",
      "min      1.000000    1.000000    1.000000    1.000000    2.000000  \n",
      "25%      2.000000    2.000000    1.000000    1.000000    2.000000  \n",
      "50%      2.000000    3.000000    1.000000    1.000000    2.000000  \n",
      "75%      4.000000    5.000000    4.000000    1.000000    4.000000  \n",
      "max     10.000000   10.000000   10.000000   10.000000    4.000000  \n"
     ]
    }
   ],
   "source": [
    "df = pd.read_csv(r'C:\\Users\\harr1\\Desktop\\Thinkful\\Breast Cancer.csv')\n",
    "print (df.describe())"
   ]
  },
  {
   "cell_type": "code",
   "execution_count": 3,
   "metadata": {},
   "outputs": [],
   "source": [
    "df.rename(columns = {\"Column1\": \"ID\", \n",
    "                     \"Column2\":\"Clump Thickness\",\n",
    "                    \"Column3\": \"Uniform Cell Size\",\n",
    "                    \"Column4\": \"Uniform Cell Shape\",\n",
    "                    \"Column5\": \"Marginal Adhesion\",\n",
    "                    \"Column6\": \"Single Epithelial Cell Size\",\n",
    "                    \"Column7\": \"Bare Nuclei\",\n",
    "                    \"Column8\": \"Bland Chromatin\",\n",
    "                    \"Column9\": \"Normal Nucleoli\",\n",
    "                    \"Column10\": \"Mitoses\",\n",
    "                    \"Column11\":\"Class\"}, \n",
    "                                 inplace = True) "
   ]
  },
  {
   "cell_type": "code",
   "execution_count": 52,
   "metadata": {},
   "outputs": [
    {
     "name": "stdout",
     "output_type": "stream",
     "text": [
      "ID                              int64\n",
      "Clump Thickness                 int64\n",
      "Uniform Cell Size               int64\n",
      "Uniform Cell Shape              int64\n",
      "Marginal Adhesion               int64\n",
      "Single Epithelial Cell Size     int64\n",
      "Bare Nuclei                    object\n",
      "Bland Chromatin                 int64\n",
      "Normal Nucleoli                 int64\n",
      "Mitoses                         int64\n",
      "Class                           int64\n",
      "dtype: object\n"
     ]
    }
   ],
   "source": [
    "print (df.dtypes)"
   ]
  },
  {
   "cell_type": "code",
   "execution_count": 4,
   "metadata": {},
   "outputs": [
    {
     "data": {
      "image/png": "[encoded data removed]",
      "text/plain": [
       "<Figure size 864x648 with 2 Axes>"
      ]
     },
     "metadata": {
      "needs_background": "light"
     },
     "output_type": "display_data"
    }
   ],
   "source": [
    "corrmat = df.corr()\n",
    "f, ax = plt.subplots(figsize=(12, 9))\n",
    "sns.heatmap(corrmat, vmax=.9)\n",
    "plt.show()"
   ]
  },
  {
   "cell_type": "code",
   "execution_count": 9,
   "metadata": {},
   "outputs": [
    {
     "name": "stderr",
     "output_type": "stream",
     "text": [
      "C:\\Users\\harr1\\Anaconda3\\lib\\site-packages\\sklearn\\ensemble\\forest.py:246: FutureWarning: The default value of n_estimators will change from 10 in version 0.20 to 100 in 0.22.\n",
      "  \"10 in version 0.20 to 100 in 0.22.\", FutureWarning)\n",
      "C:\\Users\\harr1\\Anaconda3\\lib\\site-packages\\ipykernel_launcher.py:16: DataConversionWarning: A column-vector y was passed when a 1d array was expected. Please change the shape of y to (n_samples,), for example using ravel().\n",
      "  app.launch_new_instance()\n"
     ]
    },
    {
     "data": {
      "text/plain": [
       "Uniform Cell Size              0.614498\n",
       "Uniform Cell Shape             0.118825\n",
       "Bland Chromatin                0.106173\n",
       "Clump Thickness                0.065027\n",
       "Normal Nucleoli                0.039907\n",
       "Single Epithelial Cell Size    0.026742\n",
       "Marginal Adhesion              0.021817\n",
       "Mitoses                        0.007011\n",
       "dtype: float64"
      ]
     },
     "execution_count": 9,
     "metadata": {},
     "output_type": "execute_result"
    }
   ],
   "source": [
    "from sklearn.model_selection import train_test_split\n",
    "from sklearn.naive_bayes import BernoulliNB\n",
    "from sklearn import linear_model\n",
    "from sklearn.linear_model import LogisticRegression\n",
    "from sklearn.linear_model import LinearRegression\n",
    "from sklearn.model_selection import cross_val_score\n",
    "from sklearn import ensemble\n",
    "from sklearn import tree\n",
    "from IPython.display import Image\n",
    "import pydotplus\n",
    "import graphviz\n",
    "from sklearn.tree import DecisionTreeRegressor\n",
    "\n",
    "RandForest= ensemble.RandomForestRegressor()\n",
    "\n",
    "RandForest.fit(data,target)\n",
    "\n",
    "RandForest.feature_importances_\n",
    "RandForest_ft_series = pd.Series(data=RandForest.feature_importances_, index=data.columns)\n",
    "###################################\n",
    "sorted_series = RandForest_ft_series.sort_values(ascending = False)\n",
    "sorted_series"
   ]
  },
  {
   "cell_type": "markdown",
   "metadata": {},
   "source": [
    "# Most important feature is uniform cell size by far"
   ]
  },
  {
   "cell_type": "code",
   "execution_count": 16,
   "metadata": {},
   "outputs": [],
   "source": [
    "from sklearn.model_selection import cross_val_score"
   ]
  },
  {
   "cell_type": "code",
   "execution_count": 22,
   "metadata": {},
   "outputs": [
    {
     "name": "stdout",
     "output_type": "stream",
     "text": [
      "[[0.07633498 0.0541616  0.07261996 0.03849737 0.08497522 0.0340651 ]]\n",
      "[1.43545954]\n",
      "Rsquared for regr: 0.7758449399305118\n",
      "CV: [0.61578481 0.74177531 0.79020765 0.70582365 0.65725144 0.81291849\n",
      " 0.77015508 0.86965046 0.8478015  0.86286754]\n",
      "CVmean: 0.7674235923537271\n",
      "CVstd: 0.0825841743875411\n"
     ]
    }
   ],
   "source": [
    "#Linear Regression\n",
    "\n",
    "data = df[['Clump Thickness', 'Uniform Cell Size', 'Uniform Cell Shape', 'Single Epithelial Cell Size', 'Bland Chromatin', 'Normal Nucleoli']]\n",
    "target = df['Class'].values.reshape(-1,1)\n",
    "\n",
    "from sklearn.model_selection import train_test_split\n",
    "\n",
    "x_train, x_test, y_train, y_test = train_test_split(data, target, test_size = .3, random_state =20)\n",
    "\n",
    "from sklearn import linear_model\n",
    "regr = linear_model.LinearRegression()\n",
    "regr.fit(x_train , y_train)\n",
    "y_pred = regr.predict(data)\n",
    "\n",
    "cvscore_regr=cross_val_score(regr, data, target, cv=10)\n",
    "\n",
    "print (regr.coef_)\n",
    "print (regr.intercept_)\n",
    "print('Rsquared for regr:', regr.score(x_train, y_train))\n",
    "print('CV:', cvscore_regr)\n",
    "print ('CVmean:', np.mean(cvscore_regr))\n",
    "print ('CVstd:', np.std(cvscore_regr))\n",
    "# plt.scatter(x,y)\n",
    "\n",
    "# plt.plot(x, regr.predict(x))\n",
    "# plt.show()\n",
    "\n",
    "\n",
    "# Calculate linear regression for x and bin_y.\n",
    "#fit = np.polyfit(x,bin_y,1)\n",
    "\n",
    "# Work as a function to return the predicted value of y.\n",
    "#fit_fn = np.poly1d(fit)\n",
    "\n",
    "# Add a little 'noise' to the data for graphing purposes.\n",
    "#jitter = np.random.randn(700)\n",
    "\n",
    "# Display our results.\n",
    "#plt.plot(x + jitter, bin_y + jitter / 100, 'yo', x, fit_fn(x), '--k')\n",
    "#plt.xlabel('Continuous x')\n",
    "#plt.ylabel('Binary y')\n",
    "#plt.show()"
   ]
  },
  {
   "cell_type": "code",
   "execution_count": 23,
   "metadata": {},
   "outputs": [
    {
     "name": "stdout",
     "output_type": "stream",
     "text": [
      "Rsquared for lasso: 0.7537152713404419\n",
      "CV: [0.55344968 0.6865192  0.79283573 0.69456773 0.60341736 0.7868541\n",
      " 0.75443567 0.79820677 0.81309959 0.86033802]\n",
      "CVmean: 0.734372385185006\n",
      "CVstd: 0.09299008212709207\n"
     ]
    }
   ],
   "source": [
    "\n",
    "#Lasso Regression\n",
    "lass = linear_model.Lasso(alpha=.35)\n",
    "lassfit = lass.fit(data, target)\n",
    "cvscore_lass=cross_val_score(lass, data, target, cv=10)\n",
    "\n",
    "print('Rsquared for lasso:', lass.score(data,target))\n",
    "print('CV:', cvscore_lass)\n",
    "print ('CVmean:', np.mean(cvscore_lass))\n",
    "print ('CVstd:', np.std(cvscore_lass))\n",
    "\n",
    "\n"
   ]
  },
  {
   "cell_type": "markdown",
   "metadata": {},
   "source": [
    "#Linear Regression better than lasso with higher Rsquared and lower variance in cross val scores"
   ]
  },
  {
   "cell_type": "code",
   "execution_count": 24,
   "metadata": {},
   "outputs": [
    {
     "name": "stdout",
     "output_type": "stream",
     "text": [
      "Rsquared for ridge: 0.3125817648856166\n",
      "CV: [ 0.23862542  0.36384408  0.25024577  0.3506602   0.18654045  0.13420869\n",
      "  0.08578873  0.25821896  0.47876156 -0.04964351]\n",
      "CVmean: 0.22972503487856977\n",
      "CVstd: 0.1434215378791581\n"
     ]
    }
   ],
   "source": [
    "ridge = linear_model.Ridge(alpha = 10, fit_intercept = False)\n",
    "ridge.fit(data, target)\n",
    "cvscore_ridge=cross_val_score(ridge, data, target, cv=10)\n",
    "\n",
    "print('Rsquared for ridge:', ridge.score(data,target))\n",
    "print('CV:', cvscore_ridge)\n",
    "print ('CVmean:', np.mean(cvscore_ridge))\n",
    "print ('CVstd:', np.std(cvscore_ridge))\n"
   ]
  },
  {
   "cell_type": "markdown",
   "metadata": {},
   "source": [
    "#Ridge regression performs terribly! Linear is the best of the three"
   ]
  },
  {
   "cell_type": "code",
   "execution_count": null,
   "metadata": {},
   "outputs": [],
   "source": []
  }
 ],
 "metadata": {
  "kernelspec": {
   "display_name": "Python 3",
   "language": "python",
   "name": "python3"
  },
  "language_info": {
   "codemirror_mode": {
    "name": "ipython",
    "version": 3
   },
   "file_extension": ".py",
   "mimetype": "text/x-python",
   "name": "python",
   "nbconvert_exporter": "python",
   "pygments_lexer": "ipython3",
   "version": "3.7.1"
  }
 },
 "nbformat": 4,
 "nbformat_minor": 2
}
